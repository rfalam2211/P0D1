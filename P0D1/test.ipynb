{
 "cells": [
  {
   "cell_type": "code",
   "execution_count": 1,
   "metadata": {},
   "outputs": [
    {
     "name": "stdout",
     "output_type": "stream",
     "text": [
      "nama saya riko\n"
     ]
    }
   ],
   "source": [
    "print(\"nama saya riko\")\n"
   ]
  },
  {
   "cell_type": "code",
   "execution_count": 2,
   "metadata": {},
   "outputs": [
    {
     "name": "stdout",
     "output_type": "stream",
     "text": [
      "cell code ini adalah berisi kode untuk pie charts\n"
     ]
    }
   ],
   "source": [
    "print(\"cell code ini adalah berisi kode untuk pie charts\")\n"
   ]
  },
  {
   "cell_type": "markdown",
   "metadata": {},
   "source": [
    "**tulisan ini tebal tapi kata *itu* miring**"
   ]
  },
  {
   "cell_type": "markdown",
   "metadata": {},
   "source": [
    "tulisan dua bintang dan dua garis bawah membuat kata **ini** tebal"
   ]
  },
  {
   "cell_type": "markdown",
   "metadata": {},
   "source": [
    "disini baru bisa tulis insight dari hasil yang kita tampilkan diatas"
   ]
  },
  {
   "cell_type": "markdown",
   "metadata": {},
   "source": [
    "tulisan tanda bintang membuat kata *ini* miring"
   ]
  },
  {
   "cell_type": "markdown",
   "metadata": {},
   "source": [
    "### ini judul"
   ]
  },
  {
   "cell_type": "markdown",
   "metadata": {},
   "source": [
    "# ini judul"
   ]
  },
  {
   "cell_type": "code",
   "execution_count": null,
   "metadata": {},
   "outputs": [],
   "source": []
  }
 ],
 "metadata": {
  "kernelspec": {
   "display_name": "base",
   "language": "python",
   "name": "python3"
  },
  "language_info": {
   "codemirror_mode": {
    "name": "ipython",
    "version": 3
   },
   "file_extension": ".py",
   "mimetype": "text/x-python",
   "name": "python",
   "nbconvert_exporter": "python",
   "pygments_lexer": "ipython3",
   "version": "3.12.9"
  }
 },
 "nbformat": 4,
 "nbformat_minor": 2
}
